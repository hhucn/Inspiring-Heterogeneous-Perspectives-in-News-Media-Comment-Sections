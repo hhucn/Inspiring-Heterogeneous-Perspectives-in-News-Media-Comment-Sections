{
 "cells": [
  {
   "cell_type": "code",
   "execution_count": 81,
   "metadata": {
    "pycharm": {
     "name": "#%%\n"
    }
   },
   "outputs": [],
   "source": [
    "from statistics import mean\n",
    "from typing import List\n",
    "\n",
    "import krippendorff\n",
    "import pandas as pd\n",
    "import seaborn as sns\n",
    "from matplotlib import pyplot as plt"
   ]
  },
  {
   "cell_type": "code",
   "execution_count": 82,
   "metadata": {
    "pycharm": {
     "name": "#%%\n"
    }
   },
   "outputs": [],
   "source": [
    "annotation_data_user_1 = pd.read_csv(\"annotation_user_1.csv\")\n",
    "annotation_data_user_2 = pd.read_csv(\"annotation_user_2.csv\")\n",
    "annotation_data_user_3 = pd.read_csv(\"annotation_user_3.csv\")\n",
    "annotation_data_user_4 = pd.read_csv(\"annotation_user_4.csv\")\n"
   ]
  },
  {
   "cell_type": "code",
   "execution_count": 83,
   "metadata": {
    "pycharm": {
     "name": "#%%\n"
    }
   },
   "outputs": [],
   "source": [
    "annotation_data = pd.merge(annotation_data_user_1, annotation_data_user_2, on=\"step\")\n",
    "annotation_data = pd.merge(annotation_data, annotation_data_user_3, on=\"step\")\n",
    "annotation_data = pd.merge(annotation_data, annotation_data_user_4, on=\"step\")"
   ]
  },
  {
   "cell_type": "code",
   "execution_count": 84,
   "metadata": {
    "pycharm": {
     "name": "#%%\n"
    }
   },
   "outputs": [],
   "source": [
    "annotation_data = annotation_data.sort_values(by=[\"step\"])\n",
    "annotation_data = annotation_data.set_index(\"step\")"
   ]
  },
  {
   "cell_type": "code",
   "execution_count": 85,
   "outputs": [],
   "source": [
    "\n",
    "experiment_data = pd.read_csv(\"ExperimentResults.csv\", sep=\";\", index_col=0)"
   ],
   "metadata": {
    "collapsed": false,
    "pycharm": {
     "name": "#%%\n"
    }
   }
  },
  {
   "cell_type": "code",
   "execution_count": 86,
   "metadata": {
    "pycharm": {
     "name": "#%%\n"
    }
   },
   "outputs": [
    {
     "data": {
      "text/plain": "                model                                       user_comment  \\\n0  stsb-mpnet-base-v2  Additional air- and sea-launched missiles and ...   \n1  stsb-mpnet-base-v2  Additional air- and sea-launched missiles and ...   \n2  stsb-mpnet-base-v2  Additional air- and sea-launched missiles and ...   \n3  stsb-mpnet-base-v2  Additional air- and sea-launched missiles and ...   \n4  stsb-mpnet-base-v2  Additional air- and sea-launched missiles and ...   \n\n                                          suggestion  similarity_score  \\\n0  \"In anticipation of the missile deployment, th...          0.606054   \n1  Perhaps the US could tell NATO that it will ma...          0.566233   \n2  We don't have a no nuclear first strike policy...          0.539144   \n3  I guess perhaps we need a new toy, too. Design...          0.473584   \n4  This announcement of this missile at this time...          0.472123   \n\n      suggestion_article_id   user_comment_article_id suggestion_0  \\\n0  58e1f7f27c459f24986d8045  58e1f7f27c459f24986d8045          NaN   \n1  58e1f7f27c459f24986d8045  58e1f7f27c459f24986d8045          NaN   \n2  5a97ff69410cf7000162ea4a  58e1f7f27c459f24986d8045          NaN   \n3  58e1f7f27c459f24986d8045  58e1f7f27c459f24986d8045          NaN   \n4  5a97ff69410cf7000162ea4a  58e1f7f27c459f24986d8045          NaN   \n\n  suggestion_1 suggestion_2 suggestion_3 suggestion_4 suggestion_5  \n0          NaN          NaN          NaN          NaN          NaN  \n1          NaN          NaN          NaN          NaN          NaN  \n2          NaN          NaN          NaN          NaN          NaN  \n3          NaN          NaN          NaN          NaN          NaN  \n4          NaN          NaN          NaN          NaN          NaN  ",
      "text/html": "<div>\n<style scoped>\n    .dataframe tbody tr th:only-of-type {\n        vertical-align: middle;\n    }\n\n    .dataframe tbody tr th {\n        vertical-align: top;\n    }\n\n    .dataframe thead th {\n        text-align: right;\n    }\n</style>\n<table border=\"1\" class=\"dataframe\">\n  <thead>\n    <tr style=\"text-align: right;\">\n      <th></th>\n      <th>model</th>\n      <th>user_comment</th>\n      <th>suggestion</th>\n      <th>similarity_score</th>\n      <th>suggestion_article_id</th>\n      <th>user_comment_article_id</th>\n      <th>suggestion_0</th>\n      <th>suggestion_1</th>\n      <th>suggestion_2</th>\n      <th>suggestion_3</th>\n      <th>suggestion_4</th>\n      <th>suggestion_5</th>\n    </tr>\n  </thead>\n  <tbody>\n    <tr>\n      <th>0</th>\n      <td>stsb-mpnet-base-v2</td>\n      <td>Additional air- and sea-launched missiles and ...</td>\n      <td>\"In anticipation of the missile deployment, th...</td>\n      <td>0.606054</td>\n      <td>58e1f7f27c459f24986d8045</td>\n      <td>58e1f7f27c459f24986d8045</td>\n      <td>NaN</td>\n      <td>NaN</td>\n      <td>NaN</td>\n      <td>NaN</td>\n      <td>NaN</td>\n      <td>NaN</td>\n    </tr>\n    <tr>\n      <th>1</th>\n      <td>stsb-mpnet-base-v2</td>\n      <td>Additional air- and sea-launched missiles and ...</td>\n      <td>Perhaps the US could tell NATO that it will ma...</td>\n      <td>0.566233</td>\n      <td>58e1f7f27c459f24986d8045</td>\n      <td>58e1f7f27c459f24986d8045</td>\n      <td>NaN</td>\n      <td>NaN</td>\n      <td>NaN</td>\n      <td>NaN</td>\n      <td>NaN</td>\n      <td>NaN</td>\n    </tr>\n    <tr>\n      <th>2</th>\n      <td>stsb-mpnet-base-v2</td>\n      <td>Additional air- and sea-launched missiles and ...</td>\n      <td>We don't have a no nuclear first strike policy...</td>\n      <td>0.539144</td>\n      <td>5a97ff69410cf7000162ea4a</td>\n      <td>58e1f7f27c459f24986d8045</td>\n      <td>NaN</td>\n      <td>NaN</td>\n      <td>NaN</td>\n      <td>NaN</td>\n      <td>NaN</td>\n      <td>NaN</td>\n    </tr>\n    <tr>\n      <th>3</th>\n      <td>stsb-mpnet-base-v2</td>\n      <td>Additional air- and sea-launched missiles and ...</td>\n      <td>I guess perhaps we need a new toy, too. Design...</td>\n      <td>0.473584</td>\n      <td>58e1f7f27c459f24986d8045</td>\n      <td>58e1f7f27c459f24986d8045</td>\n      <td>NaN</td>\n      <td>NaN</td>\n      <td>NaN</td>\n      <td>NaN</td>\n      <td>NaN</td>\n      <td>NaN</td>\n    </tr>\n    <tr>\n      <th>4</th>\n      <td>stsb-mpnet-base-v2</td>\n      <td>Additional air- and sea-launched missiles and ...</td>\n      <td>This announcement of this missile at this time...</td>\n      <td>0.472123</td>\n      <td>5a97ff69410cf7000162ea4a</td>\n      <td>58e1f7f27c459f24986d8045</td>\n      <td>NaN</td>\n      <td>NaN</td>\n      <td>NaN</td>\n      <td>NaN</td>\n      <td>NaN</td>\n      <td>NaN</td>\n    </tr>\n  </tbody>\n</table>\n</div>"
     },
     "execution_count": 86,
     "metadata": {},
     "output_type": "execute_result"
    }
   ],
   "source": [
    "experiment_data.head()"
   ]
  },
  {
   "cell_type": "code",
   "execution_count": 87,
   "metadata": {
    "pycharm": {
     "name": "#%%\n"
    }
   },
   "outputs": [],
   "source": [
    "annotation_data = annotation_data.join(experiment_data, on=\"step\")"
   ]
  },
  {
   "cell_type": "markdown",
   "metadata": {},
   "source": [
    "# Box Plots\n",
    "Here, we present the results of the annotation for the different models as boxplots."
   ]
  },
  {
   "cell_type": "code",
   "execution_count": 88,
   "metadata": {
    "pycharm": {
     "name": "#%%\n"
    }
   },
   "outputs": [],
   "source": [
    "def group_score_data(model: str, score: str) -> pd.DataFrame:\n",
    "    \"\"\"\n",
    "    Groups annotation data for plotting\n",
    "    :param model:\n",
    "    :param score:\n",
    "    :return:\n",
    "    \"\"\"\n",
    "    grouped_data = []\n",
    "    for user in [\"_user_1\", \"_user_2\", \"_user_3\", \"_user_4\"]:\n",
    "        grouped_data.extend(annotation_data.loc[\n",
    "                                (annotation_data.model == model) & (annotation_data[score + user] != 0)].loc[:,\n",
    "                            score + user].to_list())\n",
    "    return grouped_data\n",
    "\n"
   ]
  },
  {
   "cell_type": "code",
   "execution_count": 89,
   "metadata": {
    "pycharm": {
     "name": "#%%\n"
    }
   },
   "outputs": [],
   "source": [
    "stsb_mpnet_base_v2_thematically = group_score_data('stsb-mpnet-base-v2', score='topic_score')\n",
    "stsb_mpnet_base_v2_relevance = group_score_data('stsb-mpnet-base-v2', score='relevance_score')\n",
    "stsb_mpnet_base_v2_ranking = group_score_data('stsb-mpnet-base-v2', score='ranking_score')"
   ]
  },
  {
   "cell_type": "code",
   "execution_count": 90,
   "metadata": {
    "pycharm": {
     "name": "#%%0\n"
    }
   },
   "outputs": [],
   "source": [
    "paraphrase_mpnet_base_v2_thematically = group_score_data('paraphrase-mpnet-base-v2', score='topic_score')\n",
    "paraphrase_mpnet_base_v2_relevance = group_score_data('paraphrase-mpnet-base-v2', score='relevance_score')\n",
    "paraphrase_mpnet_base_v2_ranking = group_score_data('paraphrase-mpnet-base-v2', score='ranking_score')"
   ]
  },
  {
   "cell_type": "code",
   "execution_count": 91,
   "metadata": {
    "pycharm": {
     "name": "#%%\n"
    }
   },
   "outputs": [],
   "source": [
    "stsb_roberta_base_v2_thematically = group_score_data('stsb-roberta-base-v2', score='topic_score')\n",
    "stsb_roberta_base_v2_relevance = group_score_data('stsb-roberta-base-v2', score='relevance_score')\n",
    "stsb_roberta_base_v2_ranking = group_score_data('stsb-roberta-base-v2', score='ranking_score')"
   ]
  },
  {
   "cell_type": "code",
   "execution_count": 92,
   "metadata": {
    "pycharm": {
     "name": "#%%\n"
    }
   },
   "outputs": [],
   "source": [
    "paraphrase_MiniLM_L12_v2_thematically = group_score_data('paraphrase-MiniLM-L12-v2', score='topic_score')\n",
    "paraphrase_MiniLM_L12_v2_relevance = group_score_data('paraphrase-MiniLM-L12-v2', score='relevance_score')\n",
    "paraphrase_MiniLM_L12_v2_ranking = group_score_data('paraphrase-MiniLM-L12-v2', score='ranking_score')"
   ]
  },
  {
   "cell_type": "code",
   "execution_count": 93,
   "metadata": {
    "pycharm": {
     "name": "#%%\n"
    }
   },
   "outputs": [],
   "source": [
    "bert_thematically = group_score_data('bert-large-uncased', score='topic_score')\n",
    "bert_relevance = group_score_data('bert-large-uncased', score='relevance_score')\n",
    "bert_ranking = group_score_data('bert-large-uncased', score='ranking_score')"
   ]
  },
  {
   "cell_type": "markdown",
   "metadata": {
    "pycharm": {
     "name": "#%% md\n"
    }
   },
   "source": [
    "* Paraphrase-MiniL12-V2 (PML12)\n",
    "* Bert-Large-Uncased (BLU)\n",
    "* Paraphrase-Mpnet-Base-v2 (PMB)\n",
    "* Stsb-Mpnet-Base-v2 (SMB)\n",
    "* Stsb-Roberta-Base-v2 (SRB)"
   ]
  },
  {
   "cell_type": "code",
   "execution_count": 94,
   "outputs": [],
   "source": [
    "data_thematically = pd.DataFrame({'SMB': stsb_mpnet_base_v2_thematically,\n",
    "                                  'BLU': bert_thematically,\n",
    "                                  'PMB': paraphrase_mpnet_base_v2_thematically,\n",
    "                                  'SRB': stsb_roberta_base_v2_thematically,\n",
    "                                  'PML12': paraphrase_MiniLM_L12_v2_thematically\n",
    "                                  })\n",
    "data_relevance = pd.DataFrame({'SMB': stsb_mpnet_base_v2_relevance,\n",
    "                               'BLU': bert_relevance,\n",
    "                               'PMB': paraphrase_mpnet_base_v2_relevance,\n",
    "                               'SRB': stsb_roberta_base_v2_relevance,\n",
    "                               'PML12': paraphrase_MiniLM_L12_v2_relevance\n",
    "                               })\n",
    "data_ranking = pd.DataFrame({'SMB': stsb_mpnet_base_v2_ranking,\n",
    "                             'BLU': bert_ranking,\n",
    "                             'PMB': paraphrase_mpnet_base_v2_ranking,\n",
    "                             'SRB': stsb_roberta_base_v2_ranking,\n",
    "                             'PML12': paraphrase_MiniLM_L12_v2_ranking\n",
    "                             })"
   ],
   "metadata": {
    "collapsed": false,
    "pycharm": {
     "name": "#%%\n"
    }
   }
  },
  {
   "cell_type": "code",
   "execution_count": 95,
   "metadata": {
    "pycharm": {
     "name": "#%%\n"
    }
   },
   "outputs": [
    {
     "data": {
      "text/plain": "              SMB         BLU         PMB         SRB       PML12\ncount  360.000000  360.000000  360.000000  360.000000  360.000000\nmean     6.513889    4.577778    7.069444    6.930556    7.144444\nstd      2.535503    3.052841    2.264701    2.169210    2.422325\nmin      1.000000    1.000000    1.000000    1.000000    1.000000\n25%      5.000000    1.000000    5.000000    6.000000    6.000000\n50%      7.000000    4.000000    7.000000    7.000000    8.000000\n75%      8.000000    7.000000    9.000000    9.000000    9.000000\nmax     10.000000   10.000000   10.000000   10.000000   10.000000",
      "text/html": "<div>\n<style scoped>\n    .dataframe tbody tr th:only-of-type {\n        vertical-align: middle;\n    }\n\n    .dataframe tbody tr th {\n        vertical-align: top;\n    }\n\n    .dataframe thead th {\n        text-align: right;\n    }\n</style>\n<table border=\"1\" class=\"dataframe\">\n  <thead>\n    <tr style=\"text-align: right;\">\n      <th></th>\n      <th>SMB</th>\n      <th>BLU</th>\n      <th>PMB</th>\n      <th>SRB</th>\n      <th>PML12</th>\n    </tr>\n  </thead>\n  <tbody>\n    <tr>\n      <th>count</th>\n      <td>360.000000</td>\n      <td>360.000000</td>\n      <td>360.000000</td>\n      <td>360.000000</td>\n      <td>360.000000</td>\n    </tr>\n    <tr>\n      <th>mean</th>\n      <td>6.513889</td>\n      <td>4.577778</td>\n      <td>7.069444</td>\n      <td>6.930556</td>\n      <td>7.144444</td>\n    </tr>\n    <tr>\n      <th>std</th>\n      <td>2.535503</td>\n      <td>3.052841</td>\n      <td>2.264701</td>\n      <td>2.169210</td>\n      <td>2.422325</td>\n    </tr>\n    <tr>\n      <th>min</th>\n      <td>1.000000</td>\n      <td>1.000000</td>\n      <td>1.000000</td>\n      <td>1.000000</td>\n      <td>1.000000</td>\n    </tr>\n    <tr>\n      <th>25%</th>\n      <td>5.000000</td>\n      <td>1.000000</td>\n      <td>5.000000</td>\n      <td>6.000000</td>\n      <td>6.000000</td>\n    </tr>\n    <tr>\n      <th>50%</th>\n      <td>7.000000</td>\n      <td>4.000000</td>\n      <td>7.000000</td>\n      <td>7.000000</td>\n      <td>8.000000</td>\n    </tr>\n    <tr>\n      <th>75%</th>\n      <td>8.000000</td>\n      <td>7.000000</td>\n      <td>9.000000</td>\n      <td>9.000000</td>\n      <td>9.000000</td>\n    </tr>\n    <tr>\n      <th>max</th>\n      <td>10.000000</td>\n      <td>10.000000</td>\n      <td>10.000000</td>\n      <td>10.000000</td>\n      <td>10.000000</td>\n    </tr>\n  </tbody>\n</table>\n</div>"
     },
     "execution_count": 95,
     "metadata": {},
     "output_type": "execute_result"
    }
   ],
   "source": [
    "data_relevance.describe()"
   ]
  },
  {
   "cell_type": "code",
   "execution_count": 96,
   "metadata": {
    "pycharm": {
     "name": "#%%\n"
    }
   },
   "outputs": [
    {
     "data": {
      "text/plain": "              SMB         BLU         PMB         SRB       PML12\ncount  360.000000  360.000000  360.000000  360.000000  360.000000\nmean     7.880556    5.213889    8.380556    8.269444    8.391667\nstd      1.937652    3.270758    1.566416    1.569969    1.997056\nmin      1.000000    1.000000    1.000000    1.000000    1.000000\n25%      7.000000    1.000000    8.000000    7.750000    8.000000\n50%      8.000000    5.000000    8.000000    8.000000    9.000000\n75%      9.000000    8.000000   10.000000   10.000000   10.000000\nmax     10.000000   10.000000   10.000000   10.000000   10.000000",
      "text/html": "<div>\n<style scoped>\n    .dataframe tbody tr th:only-of-type {\n        vertical-align: middle;\n    }\n\n    .dataframe tbody tr th {\n        vertical-align: top;\n    }\n\n    .dataframe thead th {\n        text-align: right;\n    }\n</style>\n<table border=\"1\" class=\"dataframe\">\n  <thead>\n    <tr style=\"text-align: right;\">\n      <th></th>\n      <th>SMB</th>\n      <th>BLU</th>\n      <th>PMB</th>\n      <th>SRB</th>\n      <th>PML12</th>\n    </tr>\n  </thead>\n  <tbody>\n    <tr>\n      <th>count</th>\n      <td>360.000000</td>\n      <td>360.000000</td>\n      <td>360.000000</td>\n      <td>360.000000</td>\n      <td>360.000000</td>\n    </tr>\n    <tr>\n      <th>mean</th>\n      <td>7.880556</td>\n      <td>5.213889</td>\n      <td>8.380556</td>\n      <td>8.269444</td>\n      <td>8.391667</td>\n    </tr>\n    <tr>\n      <th>std</th>\n      <td>1.937652</td>\n      <td>3.270758</td>\n      <td>1.566416</td>\n      <td>1.569969</td>\n      <td>1.997056</td>\n    </tr>\n    <tr>\n      <th>min</th>\n      <td>1.000000</td>\n      <td>1.000000</td>\n      <td>1.000000</td>\n      <td>1.000000</td>\n      <td>1.000000</td>\n    </tr>\n    <tr>\n      <th>25%</th>\n      <td>7.000000</td>\n      <td>1.000000</td>\n      <td>8.000000</td>\n      <td>7.750000</td>\n      <td>8.000000</td>\n    </tr>\n    <tr>\n      <th>50%</th>\n      <td>8.000000</td>\n      <td>5.000000</td>\n      <td>8.000000</td>\n      <td>8.000000</td>\n      <td>9.000000</td>\n    </tr>\n    <tr>\n      <th>75%</th>\n      <td>9.000000</td>\n      <td>8.000000</td>\n      <td>10.000000</td>\n      <td>10.000000</td>\n      <td>10.000000</td>\n    </tr>\n    <tr>\n      <th>max</th>\n      <td>10.000000</td>\n      <td>10.000000</td>\n      <td>10.000000</td>\n      <td>10.000000</td>\n      <td>10.000000</td>\n    </tr>\n  </tbody>\n</table>\n</div>"
     },
     "execution_count": 96,
     "metadata": {},
     "output_type": "execute_result"
    }
   ],
   "source": [
    "data_thematically.describe()"
   ]
  },
  {
   "cell_type": "code",
   "execution_count": 97,
   "outputs": [
    {
     "data": {
      "text/plain": "             SMB        BLU        PMB        SRB      PML12\ncount  60.000000  60.000000  60.000000  60.000000  60.000000\nmean    6.316667   5.116667   6.683333   6.333333   6.516667\nstd     1.672222   2.894130   1.789723   1.910423   2.197778\nmin     2.000000   1.000000   3.000000   1.000000   1.000000\n25%     5.000000   3.000000   6.000000   5.000000   5.000000\n50%     6.000000   5.500000   7.000000   7.000000   7.000000\n75%     7.250000   7.250000   8.000000   8.000000   8.000000\nmax    10.000000  10.000000  10.000000  10.000000  10.000000",
      "text/html": "<div>\n<style scoped>\n    .dataframe tbody tr th:only-of-type {\n        vertical-align: middle;\n    }\n\n    .dataframe tbody tr th {\n        vertical-align: top;\n    }\n\n    .dataframe thead th {\n        text-align: right;\n    }\n</style>\n<table border=\"1\" class=\"dataframe\">\n  <thead>\n    <tr style=\"text-align: right;\">\n      <th></th>\n      <th>SMB</th>\n      <th>BLU</th>\n      <th>PMB</th>\n      <th>SRB</th>\n      <th>PML12</th>\n    </tr>\n  </thead>\n  <tbody>\n    <tr>\n      <th>count</th>\n      <td>60.000000</td>\n      <td>60.000000</td>\n      <td>60.000000</td>\n      <td>60.000000</td>\n      <td>60.000000</td>\n    </tr>\n    <tr>\n      <th>mean</th>\n      <td>6.316667</td>\n      <td>5.116667</td>\n      <td>6.683333</td>\n      <td>6.333333</td>\n      <td>6.516667</td>\n    </tr>\n    <tr>\n      <th>std</th>\n      <td>1.672222</td>\n      <td>2.894130</td>\n      <td>1.789723</td>\n      <td>1.910423</td>\n      <td>2.197778</td>\n    </tr>\n    <tr>\n      <th>min</th>\n      <td>2.000000</td>\n      <td>1.000000</td>\n      <td>3.000000</td>\n      <td>1.000000</td>\n      <td>1.000000</td>\n    </tr>\n    <tr>\n      <th>25%</th>\n      <td>5.000000</td>\n      <td>3.000000</td>\n      <td>6.000000</td>\n      <td>5.000000</td>\n      <td>5.000000</td>\n    </tr>\n    <tr>\n      <th>50%</th>\n      <td>6.000000</td>\n      <td>5.500000</td>\n      <td>7.000000</td>\n      <td>7.000000</td>\n      <td>7.000000</td>\n    </tr>\n    <tr>\n      <th>75%</th>\n      <td>7.250000</td>\n      <td>7.250000</td>\n      <td>8.000000</td>\n      <td>8.000000</td>\n      <td>8.000000</td>\n    </tr>\n    <tr>\n      <th>max</th>\n      <td>10.000000</td>\n      <td>10.000000</td>\n      <td>10.000000</td>\n      <td>10.000000</td>\n      <td>10.000000</td>\n    </tr>\n  </tbody>\n</table>\n</div>"
     },
     "execution_count": 97,
     "metadata": {},
     "output_type": "execute_result"
    }
   ],
   "source": [
    "data_ranking.describe()"
   ],
   "metadata": {
    "collapsed": false,
    "pycharm": {
     "name": "#%%\n"
    }
   }
  },
  {
   "cell_type": "code",
   "execution_count": 98,
   "outputs": [],
   "source": [
    "sns.set(font_scale=2)"
   ],
   "metadata": {
    "collapsed": false,
    "pycharm": {
     "name": "#%%\n"
    }
   }
  },
  {
   "cell_type": "code",
   "execution_count": 99,
   "metadata": {
    "pycharm": {
     "name": "#%%\n"
    }
   },
   "outputs": [
    {
     "data": {
      "text/plain": "<Figure size 842.4x595.44 with 1 Axes>",
      "image/png": "[encoded data removed]"
     },
     "metadata": {},
     "output_type": "display_data"
    }
   ],
   "source": [
    "dims = (11.7, 8.27)\n",
    "_, ax = plt.subplots(figsize=dims)\n",
    "sns.boxplot(ax=ax, data=data_relevance, width=.5).set(title=\"Relevance of Suggestion\",\n",
    "                                                      xlabel=\"Models\",\n",
    "                                                      ylabel=\"Annotation [1,10]\")\n",
    "plt.savefig('Relevance-Scores.pdf')"
   ]
  },
  {
   "cell_type": "code",
   "execution_count": 100,
   "metadata": {
    "pycharm": {
     "name": "#%%\n"
    }
   },
   "outputs": [
    {
     "data": {
      "text/plain": "<Figure size 842.4x595.44 with 1 Axes>",
      "image/png": "[encoded data removed]"
     },
     "metadata": {},
     "output_type": "display_data"
    }
   ],
   "source": [
    "dims = (11.7, 8.27)\n",
    "_, ax = plt.subplots(figsize=dims)\n",
    "sns.boxplot(ax=ax, data=data_thematically, width=0.5).set(title=\"Thematic Relevance of Suggestion\", xlabel=\"Models\",\n",
    "                                                          ylabel=\"Annotation [1,10]\")\n",
    "\n",
    "plt.savefig('Thematic-Scores.pdf')"
   ]
  },
  {
   "cell_type": "code",
   "execution_count": 101,
   "metadata": {
    "pycharm": {
     "name": "#%%\n"
    }
   },
   "outputs": [
    {
     "data": {
      "text/plain": "<Figure size 842.4x595.44 with 1 Axes>",
      "image/png": "[encoded data removed]"
     },
     "metadata": {},
     "output_type": "display_data"
    }
   ],
   "source": [
    "dims = (11.7, 8.27)\n",
    "_, ax = plt.subplots(figsize=dims)\n",
    "sns.boxplot(ax=ax, data=data_ranking, width=0.5).set(title=\"Ranking of Suggestion\", xlabel=\"Models\",\n",
    "                                                     ylabel=\"Annotation [1,10]\")\n",
    "\n",
    "plt.savefig('Ranking-Scores.pdf')"
   ]
  },
  {
   "cell_type": "markdown",
   "source": [
    "# Krippendorf Alpha\n",
    "\n",
    "Here, we verify how well the annotators agreed on the performance of the model. We compute the Krippendorf Alpha of\n",
    "the binary classification if the score of the annotation is greater or equal to six.\n"
   ],
   "metadata": {
    "collapsed": false
   }
  },
  {
   "cell_type": "code",
   "execution_count": 102,
   "outputs": [],
   "source": [
    "def is_score_good(score):\n",
    "    \"\"\"\n",
    "    Checks if score is greater or equal to six to learn how good the annotators considered the proposals\n",
    "    :param score:\n",
    "    :return:\n",
    "    \"\"\"\n",
    "    return 1 if score >= 6 else 0"
   ],
   "metadata": {
    "collapsed": false,
    "pycharm": {
     "name": "#%%\n"
    }
   }
  },
  {
   "cell_type": "code",
   "execution_count": 103,
   "outputs": [],
   "source": [
    "user_1_relevance = annotation_data.relevance_score_user_1.map(is_score_good).to_list()\n",
    "user_2_relevance = annotation_data.relevance_score_user_2.map(is_score_good).to_list()\n",
    "user_3_relevance = annotation_data.relevance_score_user_3.map(is_score_good).to_list()\n",
    "user_4_relevance = annotation_data.relevance_score_user_4.map(is_score_good).to_list()\n",
    "\n",
    "user_1_topic = annotation_data.topic_score_user_1.map(is_score_good).to_list()\n",
    "user_2_topic = annotation_data.topic_score_user_2.map(is_score_good).to_list()\n",
    "user_3_topic = annotation_data.topic_score_user_3.map(is_score_good).to_list()\n",
    "user_4_topic = annotation_data.topic_score_user_4.map(is_score_good).to_list()\n",
    "\n",
    "user_1_ranking = annotation_data.ranking_score_user_1.map(is_score_good).to_list()\n",
    "user_2_ranking = annotation_data.ranking_score_user_2.map(is_score_good).to_list()\n",
    "user_3_ranking = annotation_data.ranking_score_user_3.map(is_score_good).to_list()\n",
    "user_4_ranking = annotation_data.ranking_score_user_4.map(is_score_good).to_list()\n",
    "\n",
    "relevance_reliability = [user_1_relevance, user_2_relevance,\n",
    "                         user_3_relevance, user_4_relevance]\n",
    "thematic_reliability = [user_1_topic, user_2_topic, user_3_topic, user_4_topic]\n",
    "ranking_reliability = [user_1_ranking, user_2_ranking, user_3_ranking, user_4_ranking]\n"
   ],
   "metadata": {
    "collapsed": false,
    "pycharm": {
     "name": "#%%\n"
    }
   }
  },
  {
   "cell_type": "code",
   "execution_count": 104,
   "outputs": [],
   "source": [
    "relevance_alpha = krippendorff.alpha(reliability_data=relevance_reliability,\n",
    "                                     level_of_measurement='nominal')\n",
    "thematic_alpha = krippendorff.alpha(reliability_data=thematic_reliability,\n",
    "                                    level_of_measurement='nominal')\n",
    "ranking_alpha = krippendorff.alpha(reliability_data=ranking_reliability,\n",
    "                                   level_of_measurement='nominal')"
   ],
   "metadata": {
    "collapsed": false,
    "pycharm": {
     "name": "#%%\n"
    }
   }
  },
  {
   "cell_type": "code",
   "execution_count": 105,
   "outputs": [
    {
     "name": "stdout",
     "output_type": "stream",
     "text": [
      "Krippendorf Alpha of relevance annotation: 0.4642154518921394\n"
     ]
    }
   ],
   "source": [
    "print(f\"Krippendorf Alpha of relevance annotation: {relevance_alpha}\")"
   ],
   "metadata": {
    "collapsed": false,
    "pycharm": {
     "name": "#%%\n"
    }
   }
  },
  {
   "cell_type": "code",
   "execution_count": 106,
   "outputs": [
    {
     "name": "stdout",
     "output_type": "stream",
     "text": [
      "Krippendorf Alpha of thematically relevance annotation: 0.7023798526966026\n"
     ]
    }
   ],
   "source": [
    "print(f\"Krippendorf Alpha of thematically relevance annotation: {thematic_alpha}\")"
   ],
   "metadata": {
    "collapsed": false,
    "pycharm": {
     "name": "#%%\n"
    }
   }
  },
  {
   "cell_type": "code",
   "execution_count": 107,
   "outputs": [
    {
     "name": "stdout",
     "output_type": "stream",
     "text": [
      "Krippendorf Alpha of ranking annotation: 0.6970634365860189\n"
     ]
    }
   ],
   "source": [
    "print(f\"Krippendorf Alpha of ranking annotation: {ranking_alpha}\")\n"
   ],
   "metadata": {
    "collapsed": false,
    "pycharm": {
     "name": "#%%\n"
    }
   }
  },
  {
   "cell_type": "markdown",
   "source": [
    "# Percentage of annotation scores greater or equal to six\n"
   ],
   "metadata": {
    "collapsed": false,
    "pycharm": {
     "name": "#%% md\n"
    }
   }
  },
  {
   "cell_type": "code",
   "execution_count": 108,
   "outputs": [],
   "source": [
    "def compute_percentage_of_good_suggestions(scores) -> float:\n",
    "    \"\"\"\n",
    "    Compute percentage of suggestions with annotation greater or equal to six\n",
    "    :param scores:\n",
    "    :return: Percentage for model\n",
    "    \"\"\"\n",
    "    results = {}\n",
    "    models = ['SMB',\n",
    "              'BLU',\n",
    "              'PML12',\n",
    "              'SRB',\n",
    "              'PMB']\n",
    "    for model in models:\n",
    "        results[model] = sum(list(map(is_score_good, scores[model].to_list()))) / len(scores[model].to_list())\n",
    "    return results"
   ],
   "metadata": {
    "collapsed": false,
    "pycharm": {
     "name": "#%%\n"
    }
   }
  },
  {
   "cell_type": "code",
   "execution_count": 109,
   "outputs": [
    {
     "data": {
      "text/plain": "                   SMB       BLU     PML12       SRB       PMB\nRelevance     0.708333  0.405556  0.766667  0.783333  0.747222\nThematically  0.905556  0.491667  0.930556  0.955556  0.952778\nRanking       0.716667  0.500000  0.700000  0.683333  0.766667",
      "text/html": "<div>\n<style scoped>\n    .dataframe tbody tr th:only-of-type {\n        vertical-align: middle;\n    }\n\n    .dataframe tbody tr th {\n        vertical-align: top;\n    }\n\n    .dataframe thead th {\n        text-align: right;\n    }\n</style>\n<table border=\"1\" class=\"dataframe\">\n  <thead>\n    <tr style=\"text-align: right;\">\n      <th></th>\n      <th>SMB</th>\n      <th>BLU</th>\n      <th>PML12</th>\n      <th>SRB</th>\n      <th>PMB</th>\n    </tr>\n  </thead>\n  <tbody>\n    <tr>\n      <th>Relevance</th>\n      <td>0.708333</td>\n      <td>0.405556</td>\n      <td>0.766667</td>\n      <td>0.783333</td>\n      <td>0.747222</td>\n    </tr>\n    <tr>\n      <th>Thematically</th>\n      <td>0.905556</td>\n      <td>0.491667</td>\n      <td>0.930556</td>\n      <td>0.955556</td>\n      <td>0.952778</td>\n    </tr>\n    <tr>\n      <th>Ranking</th>\n      <td>0.716667</td>\n      <td>0.500000</td>\n      <td>0.700000</td>\n      <td>0.683333</td>\n      <td>0.766667</td>\n    </tr>\n  </tbody>\n</table>\n</div>"
     },
     "execution_count": 109,
     "metadata": {},
     "output_type": "execute_result"
    }
   ],
   "source": [
    "pd.DataFrame({\"Relevance\": compute_percentage_of_good_suggestions(data_relevance),\n",
    "              \"Thematically\": compute_percentage_of_good_suggestions(data_thematically),\n",
    "              \"Ranking\": compute_percentage_of_good_suggestions(data_ranking)}).transpose()\n"
   ],
   "metadata": {
    "collapsed": false,
    "pycharm": {
     "name": "#%%\n"
    }
   }
  },
  {
   "cell_type": "markdown",
   "source": [
    "# Divergence of user annotations"
   ],
   "metadata": {
    "collapsed": false
   }
  },
  {
   "cell_type": "markdown",
   "source": [
    "## Compute the mean variance of scores per row\n",
    "\n",
    "We want to examine how much the annotation of the annotators scatter for their assessment. Therefore, we compute the mean over all annotators for the different scoring dimensions per row.\n",
    "Then we compute the difference of every annotator to that mean per row in the annotation and calculate with this the\n",
    "mean divergence for the annotators."
   ],
   "metadata": {
    "collapsed": false
   }
  },
  {
   "cell_type": "code",
   "execution_count": 110,
   "outputs": [],
   "source": [
    "def compute_row_mean_of_scores(row) -> [float, float, float]:\n",
    "    \"\"\"\n",
    "    Computes difference of every user to mean of all annotators for a row\n",
    "    :param row: Row of pandas DataFrame\n",
    "    :return: Mean difference for all annotators for relevance annotation, thematically annotation, and ranking annotation\n",
    "    \"\"\"\n",
    "    relevance_score_names = [\"relevance_score_user_1\", \"relevance_score_user_2\", \"relevance_score_user_3\",\n",
    "                             \"relevance_score_user_4\"]\n",
    "    topic_score_names = [\"topic_score_user_1\", \"topic_score_user_2\", \"topic_score_user_3\", \"topic_score_user_4\"]\n",
    "    ranking_score_names = [\"ranking_score_user_1\", \"ranking_score_user_2\", \"ranking_score_user_3\",\n",
    "                           \"ranking_score_user_4\"]\n",
    "\n",
    "    relevance_row_mean = row.loc[relevance_score_names].mean()\n",
    "    topic_row_mean = row.loc[topic_score_names].mean()\n",
    "    ranking_row_mean = row.loc[ranking_score_names].mean()\n",
    "\n",
    "    relevance_distance_to_row_mean = mean([abs(relevance_row_mean - row[score]) for score in relevance_score_names])\n",
    "    topic_distance_to_row_mean = mean([abs(topic_row_mean - row[score]) for score in topic_score_names])\n",
    "    ranking_distance_to_row_mean = mean([abs(ranking_row_mean - row[score]) for score in ranking_score_names])\n",
    "\n",
    "    return pd.Series([relevance_distance_to_row_mean, topic_distance_to_row_mean, ranking_distance_to_row_mean])\n",
    "\n",
    "\n",
    "results = annotation_data.apply(compute_row_mean_of_scores, axis=\"columns\")\n",
    "\n",
    "annotation_data[\"relevance_annotation_mean\"] = results.loc[:, 0]\n",
    "annotation_data[\"topic_annotation_mean\"] = results.loc[:, 1]\n",
    "annotation_data[\"ranking_annotation_mean\"] = results.loc[:, 2]"
   ],
   "metadata": {
    "collapsed": false,
    "pycharm": {
     "name": "#%%\n"
    }
   }
  },
  {
   "cell_type": "code",
   "execution_count": 111,
   "outputs": [
    {
     "name": "stdout",
     "output_type": "stream",
     "text": [
      "Relevance Score: \n",
      "count    525.000000\n",
      "mean       1.211667\n",
      "std        0.800905\n",
      "min        0.000000\n",
      "25%        0.750000\n",
      "50%        1.250000\n",
      "75%        1.750000\n",
      "max        3.250000\n",
      "Name: relevance_annotation_mean, dtype: float64\n",
      "\n",
      "Topic Score: \n",
      " count    525.000000\n",
      "mean       0.968333\n",
      "std        0.753477\n",
      "min        0.000000\n",
      "25%        0.500000\n",
      "50%        0.875000\n",
      "75%        1.250000\n",
      "max        3.750000\n",
      "Name: topic_annotation_mean, dtype: float64 \n",
      "\n",
      "Ranking Score: \n",
      " count    525.000000\n",
      "mean       0.190000\n",
      "std        0.514492\n",
      "min        0.000000\n",
      "25%        0.000000\n",
      "50%        0.000000\n",
      "75%        0.000000\n",
      "max        3.000000\n",
      "Name: ranking_annotation_mean, dtype: float64\n",
      "\n"
     ]
    }
   ],
   "source": [
    "print(f\"Relevance Score: \\n{annotation_data.relevance_annotation_mean.describe()}\\n\")\n",
    "print(f\"Topic Score: \\n {annotation_data.topic_annotation_mean.describe()} \\n\")\n",
    "print(f\"Ranking Score: \\n {annotation_data.ranking_annotation_mean.describe()}\\n\")"
   ],
   "metadata": {
    "collapsed": false,
    "pycharm": {
     "name": "#%%\n"
    }
   }
  },
  {
   "cell_type": "markdown",
   "source": [
    "## Annototor self agreement for duplicate suggestions\n",
    "\n",
    "Some models propose the same suggestions for a comment. Therefore, we check here if the annotators are consistent with\n",
    "them self for the assessment of these duplicate statements.\n",
    "\n",
    "For this, we compute for the relevance annotation and thematically annotation how much the annotators differ in their\n",
    "scoring of the same suggestions proposed by different model. Finnaly, we compute the mean over all annotators.\n"
   ],
   "metadata": {
    "collapsed": false,
    "pycharm": {
     "name": "#%% md\n"
    }
   }
  },
  {
   "cell_type": "code",
   "execution_count": 112,
   "outputs": [],
   "source": [
    "def compute_mean_deviation(deviation_values: List) -> float:\n",
    "    \"\"\"\n",
    "    Computes mean deviation for given values\n",
    "    :param deviation_values: Annotation scores for one suggestion that appears multiple times for different models\n",
    "    :return: Mean of annotation scores\n",
    "    \"\"\"\n",
    "    mean_annotation = mean(deviation_values)\n",
    "    return mean(list(map(lambda x: abs(mean_annotation - x), deviation_values)))\n"
   ],
   "metadata": {
    "collapsed": false,
    "pycharm": {
     "name": "#%%\n"
    }
   }
  },
  {
   "cell_type": "code",
   "execution_count": 113,
   "outputs": [],
   "source": [
    "suggestion_set = experiment_data.loc[:, \"suggestion\"].unique()\n",
    "\n",
    "\n",
    "def compute_self_user_agreement(user: str):\n",
    "    \"\"\"\n",
    "    Computes the user self agreement for suggestions that appear for multiple embedding models\n",
    "    :param user: String addition to select data for given user\n",
    "    :return: Mean of deviation of user annotations for same suggestion for different model\n",
    "    \"\"\"\n",
    "    relevance_deviation_means = []\n",
    "    thematic_deviation_means = []\n",
    "\n",
    "    for suggestion in suggestion_set:\n",
    "        indices = experiment_data.index[experiment_data[\"suggestion\"] == suggestion]\n",
    "        if len(indices) > 1:\n",
    "            relevance_deviation = annotation_data[\"relevance_score\" + user].iloc[indices].to_list()\n",
    "            thematic_deviation = annotation_data[\"topic_score\" + user].iloc[indices].to_list()\n",
    "\n",
    "            relevance_deviation_means.append(compute_mean_deviation(relevance_deviation))\n",
    "            thematic_deviation_means.append(compute_mean_deviation(thematic_deviation))\n",
    "\n",
    "    user_relevance_deviation_mean = mean(relevance_deviation_means)\n",
    "    user_thematic_deviation_mean = mean(thematic_deviation_means)\n",
    "    return user_relevance_deviation_mean, user_thematic_deviation_mean\n"
   ],
   "metadata": {
    "collapsed": false,
    "pycharm": {
     "name": "#%%\n"
    }
   }
  },
  {
   "cell_type": "code",
   "execution_count": 114,
   "outputs": [
    {
     "name": "stdout",
     "output_type": "stream",
     "text": [
      "The mean self agreement deviation for relevance for all annotators is 0.695787037037037\n",
      "The mean self agreement deviation for thematic for all annotators is 0.5287698412698413\n"
     ]
    }
   ],
   "source": [
    "all_annotator_relevance_mean = mean(\n",
    "    [compute_self_user_agreement(\"_user_1\")[0], compute_self_user_agreement(\"_user_2\")[0],\n",
    "     compute_self_user_agreement(\"_user_3\")[0], compute_self_user_agreement(\"_user_4\")[0]])\n",
    "\n",
    "all_annotator_thematic_mean = mean(\n",
    "    [compute_self_user_agreement(\"_user_1\")[1], compute_self_user_agreement(\"_user_2\")[1],\n",
    "     compute_self_user_agreement(\"_user_3\")[1], compute_self_user_agreement(\"_user_4\")[1]])\n",
    "\n",
    "print(f\"The mean self agreement deviation for relevance for all annotators is {all_annotator_relevance_mean}\")\n",
    "print(f\"The mean self agreement deviation for thematic for all annotators is {all_annotator_thematic_mean}\")\n"
   ],
   "metadata": {
    "collapsed": false,
    "pycharm": {
     "name": "#%%\n"
    }
   }
  },
  {
   "cell_type": "code",
   "execution_count": 115,
   "outputs": [],
   "source": [
    "## Long and short comments\n",
    "\n"
   ],
   "metadata": {
    "collapsed": false,
    "pycharm": {
     "name": "#%%md\n"
    }
   }
  },
  {
   "cell_type": "code",
   "execution_count": 116,
   "outputs": [],
   "source": [
    "def is_comment_short(text: str):\n",
    "    return True if len(text.split(\" \")) < 50 else False"
   ],
   "metadata": {
    "collapsed": false,
    "pycharm": {
     "name": "#%%\n"
    }
   }
  },
  {
   "cell_type": "code",
   "execution_count": 117,
   "outputs": [],
   "source": [
    "def is_comment_long(text: str):\n",
    "    return True if len(text.split(\" \")) > 50 else False\n",
    "\n"
   ],
   "metadata": {
    "collapsed": false,
    "pycharm": {
     "name": "#%%\n"
    }
   }
  },
  {
   "cell_type": "code",
   "execution_count": 118,
   "outputs": [],
   "source": [
    "def average_score_for_comment_length(method, model):\n",
    "    indexes = experiment_data[(experiment_data.user_comment.map(method)) & (\n",
    "            experiment_data.model == model) & (experiment_data.similarity_score >= 0)].index.to_list()\n",
    "\n",
    "    ranking_indexes = experiment_data[(experiment_data.user_comment.map(method)) & (\n",
    "            experiment_data.model == model) & (experiment_data.similarity_score < 0)].index.to_list()\n",
    "\n",
    "\n",
    "    relevance_scores = mean(list(map(lambda x: annotation_data.iloc[indexes][x].mean(),\n",
    "                                     [\"relevance_score_user_1\", \"relevance_score_user_2\", \"relevance_score_user_3\",\n",
    "                                      \"relevance_score_user_4\"])))\n",
    "    thematic_scores = mean(list(map(lambda x: annotation_data.iloc[indexes][x].mean(),\n",
    "                                    [\"topic_score_user_1\", \"topic_score_user_2\", \"topic_score_user_3\",\n",
    "                                     \"topic_score_user_4\"])))\n",
    "    ranking_scores = mean(list(map(lambda x: annotation_data.iloc[ranking_indexes][x].mean(),\n",
    "                                   [\"ranking_score_user_1\", \"ranking_score_user_2\", \"ranking_score_user_3\",\n",
    "                                    \"ranking_score_user_4\"])))\n",
    "\n",
    "    return int(relevance_scores), int(thematic_scores), int(ranking_scores)"
   ],
   "metadata": {
    "collapsed": false,
    "pycharm": {
     "name": "#%%\n"
    }
   }
  },
  {
   "cell_type": "code",
   "execution_count": 119,
   "outputs": [],
   "source": [
    "SMB_short_relevance_scores, SMB_short_thematic_scores, SMB_short_ranking_scores = average_score_for_comment_length(\n",
    "    is_comment_short, 'stsb-mpnet-base-v2')\n",
    "SMB_long_relevance_scores, SMB_long_thematic_scores, SMB_long_ranking_scores = average_score_for_comment_length(\n",
    "    is_comment_long, 'stsb-mpnet-base-v2')\n",
    "\n",
    "PML12_short_relevance_scores, PML12_short_thematic_scores, PML12_short_ranking_scores = average_score_for_comment_length(\n",
    "    is_comment_short, 'paraphrase-MiniLM-L12-v2')\n",
    "PML12_long_relevance_scores, PML12_long_thematic_scores, PML12_long_ranking_scores = average_score_for_comment_length(\n",
    "    is_comment_long, 'paraphrase-MiniLM-L12-v2')\n",
    "\n",
    "BLU_short_relevance_scores, BLU_short_thematic_scores, BLU_short_ranking_scores = average_score_for_comment_length(\n",
    "    is_comment_short, 'bert-large-uncased')\n",
    "BLU_long_relevance_scores, BLU_long_thematic_scores, BLU_long_ranking_scores = average_score_for_comment_length(\n",
    "    is_comment_long, 'bert-large-uncased')\n",
    "\n",
    "PMB_short_relevance_scores, PMB_short_thematic_scores, PMB_short_ranking_scores = average_score_for_comment_length(\n",
    "    is_comment_short, 'paraphrase-mpnet-base-v2')\n",
    "PMB_long_relevance_scores, PMB_long_thematic_scores, PMB_long_ranking_scores = average_score_for_comment_length(\n",
    "    is_comment_long, 'paraphrase-mpnet-base-v2')\n",
    "\n",
    "SRB_short_relevance_scores, SRB_short_thematic_scores, SRB_short_ranking_scores = average_score_for_comment_length(\n",
    "    is_comment_short, 'stsb-roberta-base-v2')\n",
    "SRB_long_relevance_scores, SRB_long_thematic_scores, SRB_long_ranking_scores = average_score_for_comment_length(\n",
    "    is_comment_long, 'stsb-roberta-base-v2')\n"
   ],
   "metadata": {
    "collapsed": false,
    "pycharm": {
     "name": "#%%\n"
    }
   }
  },
  {
   "cell_type": "code",
   "execution_count": 120,
   "outputs": [
    {
     "data": {
      "text/plain": "                         Relevance (short/long) Thematic (short/long)  \\\nstsb-mpnet-base-v2                       (6, 6)                (8, 7)   \nparaphrase-MiniLM-L12-v2                 (6, 7)                (8, 8)   \nbert-large-uncased                       (3, 4)                (4, 5)   \nparaphrase-mpnet-base-v2                 (6, 7)                (8, 8)   \nstsb-roberta-base-v2                     (7, 6)                (8, 8)   \n\n                         Ranking (short/long)  \nstsb-mpnet-base-v2                     (6, 6)  \nparaphrase-MiniLM-L12-v2               (5, 6)  \nbert-large-uncased                     (4, 5)  \nparaphrase-mpnet-base-v2               (6, 6)  \nstsb-roberta-base-v2                   (6, 6)  ",
      "text/html": "<div>\n<style scoped>\n    .dataframe tbody tr th:only-of-type {\n        vertical-align: middle;\n    }\n\n    .dataframe tbody tr th {\n        vertical-align: top;\n    }\n\n    .dataframe thead th {\n        text-align: right;\n    }\n</style>\n<table border=\"1\" class=\"dataframe\">\n  <thead>\n    <tr style=\"text-align: right;\">\n      <th></th>\n      <th>Relevance (short/long)</th>\n      <th>Thematic (short/long)</th>\n      <th>Ranking (short/long)</th>\n    </tr>\n  </thead>\n  <tbody>\n    <tr>\n      <th>stsb-mpnet-base-v2</th>\n      <td>(6, 6)</td>\n      <td>(8, 7)</td>\n      <td>(6, 6)</td>\n    </tr>\n    <tr>\n      <th>paraphrase-MiniLM-L12-v2</th>\n      <td>(6, 7)</td>\n      <td>(8, 8)</td>\n      <td>(5, 6)</td>\n    </tr>\n    <tr>\n      <th>bert-large-uncased</th>\n      <td>(3, 4)</td>\n      <td>(4, 5)</td>\n      <td>(4, 5)</td>\n    </tr>\n    <tr>\n      <th>paraphrase-mpnet-base-v2</th>\n      <td>(6, 7)</td>\n      <td>(8, 8)</td>\n      <td>(6, 6)</td>\n    </tr>\n    <tr>\n      <th>stsb-roberta-base-v2</th>\n      <td>(7, 6)</td>\n      <td>(8, 8)</td>\n      <td>(6, 6)</td>\n    </tr>\n  </tbody>\n</table>\n</div>"
     },
     "execution_count": 120,
     "metadata": {},
     "output_type": "execute_result"
    }
   ],
   "source": [
    "pd.DataFrame({'Relevance (short/long)': [(SMB_short_relevance_scores, SMB_long_relevance_scores),\n",
    "                            (PML12_short_relevance_scores, PML12_long_relevance_scores),\n",
    "                            (BLU_short_relevance_scores, BLU_long_relevance_scores),\n",
    "                            (PMB_short_relevance_scores, PMB_long_relevance_scores),\n",
    "                            (SRB_short_relevance_scores, SRB_long_relevance_scores)],\n",
    "              'Thematic (short/long)': [(SMB_short_thematic_scores, SMB_long_thematic_scores),\n",
    "                           (PML12_short_thematic_scores, PML12_long_thematic_scores),\n",
    "                           (BLU_short_thematic_scores, BLU_long_thematic_scores),\n",
    "                           (PMB_short_thematic_scores, PMB_long_thematic_scores),\n",
    "                           (SRB_short_thematic_scores, SRB_long_thematic_scores)],\n",
    "              'Ranking (short/long)': [(SMB_short_ranking_scores,SMB_long_ranking_scores),\n",
    "                          (PML12_short_ranking_scores,PML12_long_ranking_scores),\n",
    "                          (BLU_short_ranking_scores,BLU_long_ranking_scores),\n",
    "                          (PMB_short_ranking_scores, PMB_long_ranking_scores),\n",
    "                          (SRB_short_ranking_scores, SRB_long_ranking_scores)]},\n",
    "             index=['stsb-mpnet-base-v2', 'paraphrase-MiniLM-L12-v2', 'bert-large-uncased', 'paraphrase-mpnet-base-v2',\n",
    "                    'stsb-roberta-base-v2'])\n",
    "\n",
    "\n",
    "\n",
    "\n"
   ],
   "metadata": {
    "collapsed": false,
    "pycharm": {
     "name": "#%%\n"
    }
   }
  }
 ],
 "metadata": {
  "kernelspec": {
   "display_name": "Python 3 (ipykernel)",
   "language": "python",
   "name": "python3"
  },
  "language_info": {
   "codemirror_mode": {
    "name": "ipython",
    "version": 3
   },
   "file_extension": ".py",
   "mimetype": "text/x-python",
   "name": "python",
   "nbconvert_exporter": "python",
   "pygments_lexer": "ipython3",
   "version": "3.9.5"
  }
 },
 "nbformat": 4,
 "nbformat_minor": 1
}