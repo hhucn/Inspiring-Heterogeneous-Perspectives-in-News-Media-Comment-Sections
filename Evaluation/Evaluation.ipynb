{
 "cells": [
  {
   "cell_type": "code",
   "execution_count": 1,
   "metadata": {
    "pycharm": {
     "name": "#%%\n"
    }
   },
   "outputs": [],
   "source": [
    "from statistics import mean\n",
    "from typing import List\n",
    "\n",
    "import krippendorff\n",
    "import pandas as pd\n",
    "import seaborn as sns\n",
    "from matplotlib import pyplot as plt"
   ]
  },
  {
   "cell_type": "code",
   "execution_count": 2,
   "metadata": {
    "pycharm": {
     "name": "#%%\n"
    }
   },
   "outputs": [],
   "source": [
    "annotation_data_user_1 = pd.read_csv(\"annotation_user_1.csv\")\n",
    "annotation_data_user_2 = pd.read_csv(\"annotation_user_2.csv\")\n",
    "annotation_data_user_3 = pd.read_csv(\"annotation_user_3.csv\")\n",
    "annotation_data_user_4 = pd.read_csv(\"annotation_user_4.csv\")\n"
   ]
  },
  {
   "cell_type": "code",
   "execution_count": 3,
   "metadata": {
    "pycharm": {
     "name": "#%%\n"
    }
   },
   "outputs": [],
   "source": [
    "annotation_data = pd.merge(annotation_data_user_1, annotation_data_user_2, on=\"step\")\n",
    "annotation_data = pd.merge(annotation_data, annotation_data_user_3, on=\"step\")\n",
    "annotation_data = pd.merge(annotation_data, annotation_data_user_4, on=\"step\")"
   ]
  },
  {
   "cell_type": "code",
   "execution_count": 4,
   "metadata": {
    "pycharm": {
     "name": "#%%\n"
    }
   },
   "outputs": [],
   "source": [
    "annotation_data = annotation_data.sort_values(by=[\"step\"])\n",
    "annotation_data = annotation_data.set_index(\"step\")"
   ]
  },
  {
   "cell_type": "code",
   "execution_count": 5,
   "outputs": [],
   "source": [
    "\n",
    "experiment_data = pd.read_csv(\"ExperimentResults.csv\", sep=\";\", index_col=0)"
   ],
   "metadata": {
    "collapsed": false,
    "pycharm": {
     "name": "#%%\n"
    }
   }
  },
  {
   "cell_type": "code",
   "execution_count": 6,
   "metadata": {
    "pycharm": {
     "name": "#%%\n"
    }
   },
   "outputs": [
    {
     "data": {
      "text/plain": "                model                                       user_comment  \\\n0  stsb-mpnet-base-v2  Additional air- and sea-launched missiles and ...   \n1  stsb-mpnet-base-v2  Additional air- and sea-launched missiles and ...   \n2  stsb-mpnet-base-v2  Additional air- and sea-launched missiles and ...   \n3  stsb-mpnet-base-v2  Additional air- and sea-launched missiles and ...   \n4  stsb-mpnet-base-v2  Additional air- and sea-launched missiles and ...   \n\n                                          suggestion  similarity_score  \\\n0  \"In anticipation of the missile deployment, th...          0.606054   \n1  Perhaps the US could tell NATO that it will ma...          0.566233   \n2  We don't have a no nuclear first strike policy...          0.539144   \n3  I guess perhaps we need a new toy, too. Design...          0.473584   \n4  This announcement of this missile at this time...          0.472123   \n\n      suggestion_article_id   user_comment_article_id suggestion_0  \\\n0  58e1f7f27c459f24986d8045  58e1f7f27c459f24986d8045          NaN   \n1  58e1f7f27c459f24986d8045  58e1f7f27c459f24986d8045          NaN   \n2  5a97ff69410cf7000162ea4a  58e1f7f27c459f24986d8045          NaN   \n3  58e1f7f27c459f24986d8045  58e1f7f27c459f24986d8045          NaN   \n4  5a97ff69410cf7000162ea4a  58e1f7f27c459f24986d8045          NaN   \n\n  suggestion_1 suggestion_2 suggestion_3 suggestion_4 suggestion_5  \n0          NaN          NaN          NaN          NaN          NaN  \n1          NaN          NaN          NaN          NaN          NaN  \n2          NaN          NaN          NaN          NaN          NaN  \n3          NaN          NaN          NaN          NaN          NaN  \n4          NaN          NaN          NaN          NaN          NaN  ",
      "text/html": "<div>\n<style scoped>\n    .dataframe tbody tr th:only-of-type {\n        vertical-align: middle;\n    }\n\n    .dataframe tbody tr th {\n        vertical-align: top;\n    }\n\n    .dataframe thead th {\n        text-align: right;\n    }\n</style>\n<table border=\"1\" class=\"dataframe\">\n  <thead>\n    <tr style=\"text-align: right;\">\n      <th></th>\n      <th>model</th>\n      <th>user_comment</th>\n      <th>suggestion</th>\n      <th>similarity_score</th>\n      <th>suggestion_article_id</th>\n      <th>user_comment_article_id</th>\n      <th>suggestion_0</th>\n      <th>suggestion_1</th>\n      <th>suggestion_2</th>\n      <th>suggestion_3</th>\n      <th>suggestion_4</th>\n      <th>suggestion_5</th>\n    </tr>\n  </thead>\n  <tbody>\n    <tr>\n      <th>0</th>\n      <td>stsb-mpnet-base-v2</td>\n      <td>Additional air- and sea-launched missiles and ...</td>\n      <td>\"In anticipation of the missile deployment, th...</td>\n      <td>0.606054</td>\n      <td>58e1f7f27c459f24986d8045</td>\n      <td>58e1f7f27c459f24986d8045</td>\n      <td>NaN</td>\n      <td>NaN</td>\n      <td>NaN</td>\n      <td>NaN</td>\n      <td>NaN</td>\n      <td>NaN</td>\n    </tr>\n    <tr>\n      <th>1</th>\n      <td>stsb-mpnet-base-v2</td>\n      <td>Additional air- and sea-launched missiles and ...</td>\n      <td>Perhaps the US could tell NATO that it will ma...</td>\n      <td>0.566233</td>\n      <td>58e1f7f27c459f24986d8045</td>\n      <td>58e1f7f27c459f24986d8045</td>\n      <td>NaN</td>\n      <td>NaN</td>\n      <td>NaN</td>\n      <td>NaN</td>\n      <td>NaN</td>\n      <td>NaN</td>\n    </tr>\n    <tr>\n      <th>2</th>\n      <td>stsb-mpnet-base-v2</td>\n      <td>Additional air- and sea-launched missiles and ...</td>\n      <td>We don't have a no nuclear first strike policy...</td>\n      <td>0.539144</td>\n      <td>5a97ff69410cf7000162ea4a</td>\n      <td>58e1f7f27c459f24986d8045</td>\n      <td>NaN</td>\n      <td>NaN</td>\n      <td>NaN</td>\n      <td>NaN</td>\n      <td>NaN</td>\n      <td>NaN</td>\n    </tr>\n    <tr>\n      <th>3</th>\n      <td>stsb-mpnet-base-v2</td>\n      <td>Additional air- and sea-launched missiles and ...</td>\n      <td>I guess perhaps we need a new toy, too. Design...</td>\n      <td>0.473584</td>\n      <td>58e1f7f27c459f24986d8045</td>\n      <td>58e1f7f27c459f24986d8045</td>\n      <td>NaN</td>\n      <td>NaN</td>\n      <td>NaN</td>\n      <td>NaN</td>\n      <td>NaN</td>\n      <td>NaN</td>\n    </tr>\n    <tr>\n      <th>4</th>\n      <td>stsb-mpnet-base-v2</td>\n      <td>Additional air- and sea-launched missiles and ...</td>\n      <td>This announcement of this missile at this time...</td>\n      <td>0.472123</td>\n      <td>5a97ff69410cf7000162ea4a</td>\n      <td>58e1f7f27c459f24986d8045</td>\n      <td>NaN</td>\n      <td>NaN</td>\n      <td>NaN</td>\n      <td>NaN</td>\n      <td>NaN</td>\n      <td>NaN</td>\n    </tr>\n  </tbody>\n</table>\n</div>"
     },
     "execution_count": 6,
     "metadata": {},
     "output_type": "execute_result"
    }
   ],
   "source": [
    "experiment_data.head()"
   ]
  },
  {
   "cell_type": "code",
   "execution_count": 7,
   "metadata": {
    "pycharm": {
     "name": "#%%\n"
    }
   },
   "outputs": [],
   "source": [
    "annotation_data = annotation_data.join(experiment_data, on=\"step\")"
   ]
  },
  {
   "cell_type": "markdown",
   "metadata": {},
   "source": [
    "# Box Plots\n",
    "Here, we present the results of the annotation for the different models as boxplots."
   ]
  },
  {
   "cell_type": "code",
   "execution_count": 8,
   "metadata": {
    "pycharm": {
     "name": "#%%\n"
    }
   },
   "outputs": [],
   "source": [
    "def group_score_data(model: str, score: str) -> pd.DataFrame:\n",
    "    \"\"\"\n",
    "    Groups annotation data for plotting\n",
    "    :param model:\n",
    "    :param score:\n",
    "    :return:\n",
    "    \"\"\"\n",
    "    grouped_data = []\n",
    "    for user in [\"_user_1\", \"_user_2\", \"_user_3\", \"_user_4\"]:\n",
    "        grouped_data.extend(annotation_data.loc[\n",
    "                                (annotation_data.model == model) & (annotation_data[score + user] != 0)].loc[:,\n",
    "                            score + user].to_list())\n",
    "    return grouped_data\n",
    "\n"
   ]
  },
  {
   "cell_type": "code",
   "execution_count": 9,
   "metadata": {
    "pycharm": {
     "name": "#%%\n"
    }
   },
   "outputs": [],
   "source": [
    "stsb_mpnet_base_v2_thematically = group_score_data('stsb-mpnet-base-v2', score='topic_score')\n",
    "stsb_mpnet_base_v2_relevance = group_score_data('stsb-mpnet-base-v2', score='relevance_score')\n",
    "stsb_mpnet_base_v2_ranking = group_score_data('stsb-mpnet-base-v2', score='ranking_score')"
   ]
  },
  {
   "cell_type": "code",
   "execution_count": 10,
   "metadata": {
    "pycharm": {
     "name": "#%%0\n"
    }
   },
   "outputs": [],
   "source": [
    "paraphrase_mpnet_base_v2_thematically = group_score_data('paraphrase-mpnet-base-v2', score='topic_score')\n",
    "paraphrase_mpnet_base_v2_relevance = group_score_data('paraphrase-mpnet-base-v2', score='relevance_score')\n",
    "paraphrase_mpnet_base_v2_ranking = group_score_data('paraphrase-mpnet-base-v2', score='ranking_score')"
   ]
  },
  {
   "cell_type": "code",
   "execution_count": 11,
   "metadata": {
    "pycharm": {
     "name": "#%%\n"
    }
   },
   "outputs": [],
   "source": [
    "stsb_roberta_base_v2_thematically = group_score_data('stsb-roberta-base-v2', score='topic_score')\n",
    "stsb_roberta_base_v2_relevance = group_score_data('stsb-roberta-base-v2', score='relevance_score')\n",
    "stsb_roberta_base_v2_ranking = group_score_data('stsb-roberta-base-v2', score='ranking_score')"
   ]
  },
  {
   "cell_type": "code",
   "execution_count": 12,
   "metadata": {
    "pycharm": {
     "name": "#%%\n"
    }
   },
   "outputs": [],
   "source": [
    "paraphrase_MiniLM_L12_v2_thematically = group_score_data('paraphrase-MiniLM-L12-v2', score='topic_score')\n",
    "paraphrase_MiniLM_L12_v2_relevance = group_score_data('paraphrase-MiniLM-L12-v2', score='relevance_score')\n",
    "paraphrase_MiniLM_L12_v2_ranking = group_score_data('paraphrase-MiniLM-L12-v2', score='ranking_score')"
   ]
  },
  {
   "cell_type": "code",
   "execution_count": 13,
   "metadata": {
    "pycharm": {
     "name": "#%%\n"
    }
   },
   "outputs": [],
   "source": [
    "bert_thematically = group_score_data('bert-large-uncased', score='topic_score')\n",
    "bert_relevance = group_score_data('bert-large-uncased', score='relevance_score')\n",
    "bert_ranking = group_score_data('bert-large-uncased', score='ranking_score')"
   ]
  },
  {
   "cell_type": "code",
   "execution_count": 14,
   "metadata": {
    "pycharm": {
     "name": "#%%\n"
    }
   },
   "outputs": [],
   "source": [
    "data_thematically = pd.DataFrame({'stsb-mpnet-base-v2': stsb_mpnet_base_v2_thematically,\n",
    "                                  'Bert-large-uncased': bert_thematically,\n",
    "                                  'paraphrase-mpnet-base-v2': paraphrase_mpnet_base_v2_thematically,\n",
    "                                  'stsb-roberta-base-v2': stsb_roberta_base_v2_thematically,\n",
    "                                  'paraphrase-MiniLM-L12-v2': paraphrase_MiniLM_L12_v2_thematically\n",
    "                                  })\n",
    "data_relevance = pd.DataFrame({'stsb-mpnet-base-v2': stsb_mpnet_base_v2_relevance,\n",
    "                               'Bert-large-uncased': bert_relevance,\n",
    "                               'paraphrase-mpnet-base-v2': paraphrase_mpnet_base_v2_relevance,\n",
    "                               'stsb-roberta-base-v2': stsb_roberta_base_v2_relevance,\n",
    "                               'paraphrase-MiniLM-L12-v2': paraphrase_MiniLM_L12_v2_relevance\n",
    "                               })\n",
    "data_ranking = pd.DataFrame({'stsb-mpnet-base-v2': stsb_mpnet_base_v2_ranking,\n",
    "                             'Bert-large-uncased': bert_ranking,\n",
    "                             'paraphrase-mpnet-base-v2': paraphrase_mpnet_base_v2_ranking,\n",
    "                             'stsb-roberta-base-v2': stsb_roberta_base_v2_ranking,\n",
    "                             'paraphrase-MiniLM-L12-v2': paraphrase_MiniLM_L12_v2_ranking\n",
    "                             })"
   ]
  },
  {
   "cell_type": "code",
   "execution_count": 15,
   "metadata": {
    "pycharm": {
     "name": "#%%\n"
    }
   },
   "outputs": [
    {
     "data": {
      "text/plain": "       stsb-mpnet-base-v2  Bert-large-uncased  paraphrase-mpnet-base-v2  \\\ncount          360.000000          360.000000                360.000000   \nmean             6.513889            4.577778                  7.069444   \nstd              2.535503            3.052841                  2.264701   \nmin              1.000000            1.000000                  1.000000   \n25%              5.000000            1.000000                  5.000000   \n50%              7.000000            4.000000                  7.000000   \n75%              8.000000            7.000000                  9.000000   \nmax             10.000000           10.000000                 10.000000   \n\n       stsb-roberta-base-v2  paraphrase-MiniLM-L12-v2  \ncount            360.000000                360.000000  \nmean               6.930556                  7.144444  \nstd                2.169210                  2.422325  \nmin                1.000000                  1.000000  \n25%                6.000000                  6.000000  \n50%                7.000000                  8.000000  \n75%                9.000000                  9.000000  \nmax               10.000000                 10.000000  ",
      "text/html": "<div>\n<style scoped>\n    .dataframe tbody tr th:only-of-type {\n        vertical-align: middle;\n    }\n\n    .dataframe tbody tr th {\n        vertical-align: top;\n    }\n\n    .dataframe thead th {\n        text-align: right;\n    }\n</style>\n<table border=\"1\" class=\"dataframe\">\n  <thead>\n    <tr style=\"text-align: right;\">\n      <th></th>\n      <th>stsb-mpnet-base-v2</th>\n      <th>Bert-large-uncased</th>\n      <th>paraphrase-mpnet-base-v2</th>\n      <th>stsb-roberta-base-v2</th>\n      <th>paraphrase-MiniLM-L12-v2</th>\n    </tr>\n  </thead>\n  <tbody>\n    <tr>\n      <th>count</th>\n      <td>360.000000</td>\n      <td>360.000000</td>\n      <td>360.000000</td>\n      <td>360.000000</td>\n      <td>360.000000</td>\n    </tr>\n    <tr>\n      <th>mean</th>\n      <td>6.513889</td>\n      <td>4.577778</td>\n      <td>7.069444</td>\n      <td>6.930556</td>\n      <td>7.144444</td>\n    </tr>\n    <tr>\n      <th>std</th>\n      <td>2.535503</td>\n      <td>3.052841</td>\n      <td>2.264701</td>\n      <td>2.169210</td>\n      <td>2.422325</td>\n    </tr>\n    <tr>\n      <th>min</th>\n      <td>1.000000</td>\n      <td>1.000000</td>\n      <td>1.000000</td>\n      <td>1.000000</td>\n      <td>1.000000</td>\n    </tr>\n    <tr>\n      <th>25%</th>\n      <td>5.000000</td>\n      <td>1.000000</td>\n      <td>5.000000</td>\n      <td>6.000000</td>\n      <td>6.000000</td>\n    </tr>\n    <tr>\n      <th>50%</th>\n      <td>7.000000</td>\n      <td>4.000000</td>\n      <td>7.000000</td>\n      <td>7.000000</td>\n      <td>8.000000</td>\n    </tr>\n    <tr>\n      <th>75%</th>\n      <td>8.000000</td>\n      <td>7.000000</td>\n      <td>9.000000</td>\n      <td>9.000000</td>\n      <td>9.000000</td>\n    </tr>\n    <tr>\n      <th>max</th>\n      <td>10.000000</td>\n      <td>10.000000</td>\n      <td>10.000000</td>\n      <td>10.000000</td>\n      <td>10.000000</td>\n    </tr>\n  </tbody>\n</table>\n</div>"
     },
     "execution_count": 15,
     "metadata": {},
     "output_type": "execute_result"
    }
   ],
   "source": [
    "data_relevance.describe()"
   ]
  },
  {
   "cell_type": "code",
   "execution_count": 16,
   "metadata": {
    "pycharm": {
     "name": "#%%\n"
    }
   },
   "outputs": [
    {
     "data": {
      "text/plain": "       stsb-mpnet-base-v2  Bert-large-uncased  paraphrase-mpnet-base-v2  \\\ncount          360.000000          360.000000                360.000000   \nmean             7.880556            5.213889                  8.380556   \nstd              1.937652            3.270758                  1.566416   \nmin              1.000000            1.000000                  1.000000   \n25%              7.000000            1.000000                  8.000000   \n50%              8.000000            5.000000                  8.000000   \n75%              9.000000            8.000000                 10.000000   \nmax             10.000000           10.000000                 10.000000   \n\n       stsb-roberta-base-v2  paraphrase-MiniLM-L12-v2  \ncount            360.000000                360.000000  \nmean               8.269444                  8.391667  \nstd                1.569969                  1.997056  \nmin                1.000000                  1.000000  \n25%                7.750000                  8.000000  \n50%                8.000000                  9.000000  \n75%               10.000000                 10.000000  \nmax               10.000000                 10.000000  ",
      "text/html": "<div>\n<style scoped>\n    .dataframe tbody tr th:only-of-type {\n        vertical-align: middle;\n    }\n\n    .dataframe tbody tr th {\n        vertical-align: top;\n    }\n\n    .dataframe thead th {\n        text-align: right;\n    }\n</style>\n<table border=\"1\" class=\"dataframe\">\n  <thead>\n    <tr style=\"text-align: right;\">\n      <th></th>\n      <th>stsb-mpnet-base-v2</th>\n      <th>Bert-large-uncased</th>\n      <th>paraphrase-mpnet-base-v2</th>\n      <th>stsb-roberta-base-v2</th>\n      <th>paraphrase-MiniLM-L12-v2</th>\n    </tr>\n  </thead>\n  <tbody>\n    <tr>\n      <th>count</th>\n      <td>360.000000</td>\n      <td>360.000000</td>\n      <td>360.000000</td>\n      <td>360.000000</td>\n      <td>360.000000</td>\n    </tr>\n    <tr>\n      <th>mean</th>\n      <td>7.880556</td>\n      <td>5.213889</td>\n      <td>8.380556</td>\n      <td>8.269444</td>\n      <td>8.391667</td>\n    </tr>\n    <tr>\n      <th>std</th>\n      <td>1.937652</td>\n      <td>3.270758</td>\n      <td>1.566416</td>\n      <td>1.569969</td>\n      <td>1.997056</td>\n    </tr>\n    <tr>\n      <th>min</th>\n      <td>1.000000</td>\n      <td>1.000000</td>\n      <td>1.000000</td>\n      <td>1.000000</td>\n      <td>1.000000</td>\n    </tr>\n    <tr>\n      <th>25%</th>\n      <td>7.000000</td>\n      <td>1.000000</td>\n      <td>8.000000</td>\n      <td>7.750000</td>\n      <td>8.000000</td>\n    </tr>\n    <tr>\n      <th>50%</th>\n      <td>8.000000</td>\n      <td>5.000000</td>\n      <td>8.000000</td>\n      <td>8.000000</td>\n      <td>9.000000</td>\n    </tr>\n    <tr>\n      <th>75%</th>\n      <td>9.000000</td>\n      <td>8.000000</td>\n      <td>10.000000</td>\n      <td>10.000000</td>\n      <td>10.000000</td>\n    </tr>\n    <tr>\n      <th>max</th>\n      <td>10.000000</td>\n      <td>10.000000</td>\n      <td>10.000000</td>\n      <td>10.000000</td>\n      <td>10.000000</td>\n    </tr>\n  </tbody>\n</table>\n</div>"
     },
     "execution_count": 16,
     "metadata": {},
     "output_type": "execute_result"
    }
   ],
   "source": [
    "data_thematically.describe()"
   ]
  },
  {
   "cell_type": "code",
   "execution_count": 17,
   "outputs": [
    {
     "data": {
      "text/plain": "       stsb-mpnet-base-v2  Bert-large-uncased  paraphrase-mpnet-base-v2  \\\ncount           60.000000           60.000000                 60.000000   \nmean             6.316667            5.116667                  6.683333   \nstd              1.672222            2.894130                  1.789723   \nmin              2.000000            1.000000                  3.000000   \n25%              5.000000            3.000000                  6.000000   \n50%              6.000000            5.500000                  7.000000   \n75%              7.250000            7.250000                  8.000000   \nmax             10.000000           10.000000                 10.000000   \n\n       stsb-roberta-base-v2  paraphrase-MiniLM-L12-v2  \ncount             60.000000                 60.000000  \nmean               6.333333                  6.516667  \nstd                1.910423                  2.197778  \nmin                1.000000                  1.000000  \n25%                5.000000                  5.000000  \n50%                7.000000                  7.000000  \n75%                8.000000                  8.000000  \nmax               10.000000                 10.000000  ",
      "text/html": "<div>\n<style scoped>\n    .dataframe tbody tr th:only-of-type {\n        vertical-align: middle;\n    }\n\n    .dataframe tbody tr th {\n        vertical-align: top;\n    }\n\n    .dataframe thead th {\n        text-align: right;\n    }\n</style>\n<table border=\"1\" class=\"dataframe\">\n  <thead>\n    <tr style=\"text-align: right;\">\n      <th></th>\n      <th>stsb-mpnet-base-v2</th>\n      <th>Bert-large-uncased</th>\n      <th>paraphrase-mpnet-base-v2</th>\n      <th>stsb-roberta-base-v2</th>\n      <th>paraphrase-MiniLM-L12-v2</th>\n    </tr>\n  </thead>\n  <tbody>\n    <tr>\n      <th>count</th>\n      <td>60.000000</td>\n      <td>60.000000</td>\n      <td>60.000000</td>\n      <td>60.000000</td>\n      <td>60.000000</td>\n    </tr>\n    <tr>\n      <th>mean</th>\n      <td>6.316667</td>\n      <td>5.116667</td>\n      <td>6.683333</td>\n      <td>6.333333</td>\n      <td>6.516667</td>\n    </tr>\n    <tr>\n      <th>std</th>\n      <td>1.672222</td>\n      <td>2.894130</td>\n      <td>1.789723</td>\n      <td>1.910423</td>\n      <td>2.197778</td>\n    </tr>\n    <tr>\n      <th>min</th>\n      <td>2.000000</td>\n      <td>1.000000</td>\n      <td>3.000000</td>\n      <td>1.000000</td>\n      <td>1.000000</td>\n    </tr>\n    <tr>\n      <th>25%</th>\n      <td>5.000000</td>\n      <td>3.000000</td>\n      <td>6.000000</td>\n      <td>5.000000</td>\n      <td>5.000000</td>\n    </tr>\n    <tr>\n      <th>50%</th>\n      <td>6.000000</td>\n      <td>5.500000</td>\n      <td>7.000000</td>\n      <td>7.000000</td>\n      <td>7.000000</td>\n    </tr>\n    <tr>\n      <th>75%</th>\n      <td>7.250000</td>\n      <td>7.250000</td>\n      <td>8.000000</td>\n      <td>8.000000</td>\n      <td>8.000000</td>\n    </tr>\n    <tr>\n      <th>max</th>\n      <td>10.000000</td>\n      <td>10.000000</td>\n      <td>10.000000</td>\n      <td>10.000000</td>\n      <td>10.000000</td>\n    </tr>\n  </tbody>\n</table>\n</div>"
     },
     "execution_count": 17,
     "metadata": {},
     "output_type": "execute_result"
    }
   ],
   "source": [
    "data_ranking.describe()"
   ],
   "metadata": {
    "collapsed": false,
    "pycharm": {
     "name": "#%%\n"
    }
   }
  },
  {
   "cell_type": "code",
   "execution_count": 18,
   "metadata": {
    "pycharm": {
     "name": "#%%\n"
    }
   },
   "outputs": [
    {
     "data": {
      "text/plain": "[Text(0.5, 1.0, 'Relevanz of Suggestion'),\n Text(0.5, 0, 'Model'),\n Text(0, 0.5, 'Annotation [1,10]')]"
     },
     "execution_count": 18,
     "metadata": {},
     "output_type": "execute_result"
    },
    {
     "data": {
      "text/plain": "<Figure size 842.4x595.44 with 1 Axes>",
      "image/png": "[encoded data removed]"
     },
     "metadata": {
      "needs_background": "light"
     },
     "output_type": "display_data"
    }
   ],
   "source": [
    "dims = (11.7, 8.27)\n",
    "_, ax = plt.subplots(figsize=dims)\n",
    "sns.boxplot(ax=ax, data=data_relevance, width=.5).set(title=\"Relevanz of Suggestion\",\n",
    "                                                      xlabel=\"Model\",\n",
    "                                                      ylabel=\"Annotation [1,10]\")\n"
   ]
  },
  {
   "cell_type": "code",
   "execution_count": 19,
   "metadata": {
    "pycharm": {
     "name": "#%%\n"
    }
   },
   "outputs": [
    {
     "data": {
      "text/plain": "[Text(0.5, 1.0, 'Thematic relevance of Suggestion'),\n Text(0.5, 0, 'Model'),\n Text(0, 0.5, 'Annotation [1,10]')]"
     },
     "execution_count": 19,
     "metadata": {},
     "output_type": "execute_result"
    },
    {
     "data": {
      "text/plain": "<Figure size 842.4x595.44 with 1 Axes>",
      "image/png": "[encoded data removed]"
     },
     "metadata": {
      "needs_background": "light"
     },
     "output_type": "display_data"
    }
   ],
   "source": [
    "dims = (11.7, 8.27)\n",
    "_, ax = plt.subplots(figsize=dims)\n",
    "sns.boxplot(ax=ax, data=data_thematically, width=0.5).set(title=\"Thematic relevance of Suggestion\", xlabel=\"Model\",\n",
    "                                                          ylabel=\"Annotation [1,10]\")"
   ]
  },
  {
   "cell_type": "code",
   "execution_count": 20,
   "metadata": {
    "pycharm": {
     "name": "#%%\n"
    }
   },
   "outputs": [
    {
     "data": {
      "text/plain": "[Text(0.5, 1.0, 'Ranking of Suggestion'),\n Text(0.5, 0, 'Model'),\n Text(0, 0.5, 'Annotation [1,10]')]"
     },
     "execution_count": 20,
     "metadata": {},
     "output_type": "execute_result"
    },
    {
     "data": {
      "text/plain": "<Figure size 842.4x595.44 with 1 Axes>",
      "image/png": "[encoded data removed]"
     },
     "metadata": {
      "needs_background": "light"
     },
     "output_type": "display_data"
    }
   ],
   "source": [
    "dims = (11.7, 8.27)\n",
    "_, ax = plt.subplots(figsize=dims)\n",
    "sns.boxplot(ax=ax, data=data_ranking, width=0.5).set(title=\"Ranking of Suggestion\", xlabel=\"Model\",\n",
    "                                                     ylabel=\"Annotation [1,10]\")\n",
    "\n"
   ]
  },
  {
   "cell_type": "markdown",
   "source": [
    "# Krippendorf Alpha\n",
    "\n",
    "Here, we verify how well the annotators agreed on the performance of the model. We compute the Krippendorf Alpha of\n",
    "the binary classification if the score of the annotation is greater or equal to six.\n"
   ],
   "metadata": {
    "collapsed": false
   }
  },
  {
   "cell_type": "code",
   "execution_count": 21,
   "outputs": [],
   "source": [
    "def is_score_good(score):\n",
    "    \"\"\"\n",
    "    Checks if score is greater or equal to six to learn how good the annotators considered the proposals\n",
    "    :param score:\n",
    "    :return:\n",
    "    \"\"\"\n",
    "    return 1 if score >= 6 else 0"
   ],
   "metadata": {
    "collapsed": false,
    "pycharm": {
     "name": "#%%\n"
    }
   }
  },
  {
   "cell_type": "code",
   "execution_count": 22,
   "outputs": [],
   "source": [
    "user_1_relevance = annotation_data.relevance_score_user_1.map(is_score_good).to_list()\n",
    "user_2_relevance = annotation_data.relevance_score_user_2.map(is_score_good).to_list()\n",
    "user_3_relevance = annotation_data.relevance_score_user_3.map(is_score_good).to_list()\n",
    "user_4_relevance = annotation_data.relevance_score_user_4.map(is_score_good).to_list()\n",
    "\n",
    "\n",
    "user_1_topic = annotation_data.topic_score_user_1.map(is_score_good).to_list()\n",
    "user_2_topic = annotation_data.topic_score_user_2.map(is_score_good).to_list()\n",
    "user_3_topic = annotation_data.topic_score_user_3.map(is_score_good).to_list()\n",
    "user_4_topic = annotation_data.topic_score_user_4.map(is_score_good).to_list()\n",
    "\n",
    "\n",
    "user_1_ranking = annotation_data.ranking_score_user_1.map(is_score_good).to_list()\n",
    "user_2_ranking = annotation_data.ranking_score_user_2.map(is_score_good).to_list()\n",
    "user_3_ranking = annotation_data.ranking_score_user_3.map(is_score_good).to_list()\n",
    "user_4_ranking = annotation_data.ranking_score_user_4.map(is_score_good).to_list()\n",
    "\n",
    "\n",
    "relevance_reliability = [user_1_relevance, user_2_relevance,\n",
    "                         user_3_relevance, user_4_relevance]\n",
    "thematic_reliability = [user_1_topic, user_2_topic, user_3_topic, user_4_topic]\n",
    "ranking_reliability = [user_1_ranking, user_2_ranking, user_3_ranking, user_4_ranking]\n"
   ],
   "metadata": {
    "collapsed": false,
    "pycharm": {
     "name": "#%%\n"
    }
   }
  },
  {
   "cell_type": "code",
   "execution_count": 23,
   "outputs": [],
   "source": [
    "relevance_alpha = krippendorff.alpha(reliability_data=relevance_reliability,\n",
    "                                     level_of_measurement='nominal')\n",
    "thematic_alpha = krippendorff.alpha(reliability_data=thematic_reliability,\n",
    "                                    level_of_measurement='nominal')\n",
    "ranking_alpha = krippendorff.alpha(reliability_data=ranking_reliability,\n",
    "                                   level_of_measurement='nominal')"
   ],
   "metadata": {
    "collapsed": false,
    "pycharm": {
     "name": "#%%\n"
    }
   }
  },
  {
   "cell_type": "code",
   "execution_count": 24,
   "outputs": [
    {
     "name": "stdout",
     "output_type": "stream",
     "text": [
      "Krippendorf Alpha of relevance annotation: 0.4642154518921394\n"
     ]
    }
   ],
   "source": [
    "print(f\"Krippendorf Alpha of relevance annotation: {relevance_alpha}\")"
   ],
   "metadata": {
    "collapsed": false,
    "pycharm": {
     "name": "#%%\n"
    }
   }
  },
  {
   "cell_type": "code",
   "execution_count": 25,
   "outputs": [
    {
     "name": "stdout",
     "output_type": "stream",
     "text": [
      "Krippendorf Alpha of thematically relevance annotation: 0.7023798526966026\n"
     ]
    }
   ],
   "source": [
    "print(f\"Krippendorf Alpha of thematically relevance annotation: {thematic_alpha}\")"
   ],
   "metadata": {
    "collapsed": false,
    "pycharm": {
     "name": "#%%\n"
    }
   }
  },
  {
   "cell_type": "code",
   "execution_count": 26,
   "outputs": [
    {
     "name": "stdout",
     "output_type": "stream",
     "text": [
      "Krippendorf Alpha of ranking annotation: 0.6970634365860189\n"
     ]
    }
   ],
   "source": [
    "print(f\"Krippendorf Alpha of ranking annotation: {ranking_alpha}\")\n"
   ],
   "metadata": {
    "collapsed": false,
    "pycharm": {
     "name": "#%%\n"
    }
   }
  },
  {
   "cell_type": "markdown",
   "source": [
    "# Percentage of annotation scores greater or equal to six\n"
   ],
   "metadata": {
    "collapsed": false,
    "pycharm": {
     "name": "#%% md\n"
    }
   }
  },
  {
   "cell_type": "code",
   "execution_count": 27,
   "outputs": [],
   "source": [
    "def compute_percentage_of_good_suggestions(scores) -> float:\n",
    "    \"\"\"\n",
    "    Compute percentage of suggestions with annotation greater or equal to six\n",
    "    :param scores:\n",
    "    :return: Percentage for model\n",
    "    \"\"\"\n",
    "    results = {}\n",
    "    models = ['stsb-mpnet-base-v2',\n",
    "              'Bert-large-uncased',\n",
    "              'paraphrase-mpnet-base-v2',\n",
    "              'stsb-roberta-base-v2',\n",
    "              'paraphrase-MiniLM-L12-v2']\n",
    "    for model in models:\n",
    "        results[model] = sum(list(map(is_score_good, scores[model].to_list()))) / len(scores[model].to_list())\n",
    "    return results"
   ],
   "metadata": {
    "collapsed": false,
    "pycharm": {
     "name": "#%%\n"
    }
   }
  },
  {
   "cell_type": "code",
   "execution_count": 28,
   "outputs": [
    {
     "data": {
      "text/plain": "              stsb-mpnet-base-v2  Bert-large-uncased  \\\nRelevance               0.708333            0.405556   \nThematically            0.905556            0.491667   \nRanking                 0.716667            0.500000   \n\n              paraphrase-mpnet-base-v2  stsb-roberta-base-v2  \\\nRelevance                     0.747222              0.783333   \nThematically                  0.952778              0.955556   \nRanking                       0.766667              0.683333   \n\n              paraphrase-MiniLM-L12-v2  \nRelevance                     0.766667  \nThematically                  0.930556  \nRanking                       0.700000  ",
      "text/html": "<div>\n<style scoped>\n    .dataframe tbody tr th:only-of-type {\n        vertical-align: middle;\n    }\n\n    .dataframe tbody tr th {\n        vertical-align: top;\n    }\n\n    .dataframe thead th {\n        text-align: right;\n    }\n</style>\n<table border=\"1\" class=\"dataframe\">\n  <thead>\n    <tr style=\"text-align: right;\">\n      <th></th>\n      <th>stsb-mpnet-base-v2</th>\n      <th>Bert-large-uncased</th>\n      <th>paraphrase-mpnet-base-v2</th>\n      <th>stsb-roberta-base-v2</th>\n      <th>paraphrase-MiniLM-L12-v2</th>\n    </tr>\n  </thead>\n  <tbody>\n    <tr>\n      <th>Relevance</th>\n      <td>0.708333</td>\n      <td>0.405556</td>\n      <td>0.747222</td>\n      <td>0.783333</td>\n      <td>0.766667</td>\n    </tr>\n    <tr>\n      <th>Thematically</th>\n      <td>0.905556</td>\n      <td>0.491667</td>\n      <td>0.952778</td>\n      <td>0.955556</td>\n      <td>0.930556</td>\n    </tr>\n    <tr>\n      <th>Ranking</th>\n      <td>0.716667</td>\n      <td>0.500000</td>\n      <td>0.766667</td>\n      <td>0.683333</td>\n      <td>0.700000</td>\n    </tr>\n  </tbody>\n</table>\n</div>"
     },
     "execution_count": 28,
     "metadata": {},
     "output_type": "execute_result"
    }
   ],
   "source": [
    "pd.DataFrame({\"Relevance\": compute_percentage_of_good_suggestions(data_relevance),\n",
    "              \"Thematically\": compute_percentage_of_good_suggestions(data_thematically),\n",
    "              \"Ranking\": compute_percentage_of_good_suggestions(data_ranking)}).transpose()\n"
   ],
   "metadata": {
    "collapsed": false,
    "pycharm": {
     "name": "#%%\n"
    }
   }
  },
  {
   "cell_type": "markdown",
   "source": [
    "# Divergence of user annotations"
   ],
   "metadata": {
    "collapsed": false
   }
  },
  {
   "cell_type": "markdown",
   "source": [
    "## Compute the mean variance of scores per row\n",
    "\n",
    "We want to examine how much the annotation of the annotators scatter for their assessment. Therefore, we compute the mean over all annotators for the different scoring dimensions per row.\n",
    "Then we compute the difference of every annotator to that mean per row in the annotation and calculate with this the\n",
    "mean divergence for the annotators."
   ],
   "metadata": {
    "collapsed": false
   }
  },
  {
   "cell_type": "code",
   "execution_count": 29,
   "outputs": [],
   "source": [
    "def compute_row_mean_of_scores(row) -> [float, float, float]:\n",
    "    \"\"\"\n",
    "    Computes difference of every user to mean of all annotators for a row\n",
    "    :param row: Row of pandas DataFrame\n",
    "    :return: Mean difference for all annotators for relevance annotation, thematically annotation, and ranking annotation\n",
    "    \"\"\"\n",
    "    relevance_score_names = [\"relevance_score_user_1\",\"relevance_score_user_2\", \"relevance_score_user_3\", \"relevance_score_user_4\"]\n",
    "    topic_score_names = [\"topic_score_user_1\", \"topic_score_user_2\", \"topic_score_user_3\", \"topic_score_user_4\"]\n",
    "    ranking_score_names = [\"ranking_score_user_1\", \"ranking_score_user_2\", \"ranking_score_user_3\", \"ranking_score_user_4\"]\n",
    "\n",
    "    relevance_row_mean = row.loc[relevance_score_names].mean()\n",
    "    topic_row_mean = row.loc[topic_score_names].mean()\n",
    "    ranking_row_mean = row.loc[ranking_score_names].mean()\n",
    "\n",
    "    relevance_distance_to_row_mean = mean([abs(relevance_row_mean - row[score]) for score in relevance_score_names])\n",
    "    topic_distance_to_row_mean = mean([abs(topic_row_mean - row[score]) for score in topic_score_names])\n",
    "    ranking_distance_to_row_mean = mean([abs(ranking_row_mean - row[score]) for score in ranking_score_names])\n",
    "\n",
    "    return pd.Series([relevance_distance_to_row_mean, topic_distance_to_row_mean, ranking_distance_to_row_mean])\n",
    "\n",
    "\n",
    "results = annotation_data.apply(compute_row_mean_of_scores, axis=\"columns\")\n",
    "\n",
    "annotation_data[\"relevance_annotation_mean\"] = results.loc[:, 0]\n",
    "annotation_data[\"topic_annotation_mean\"] = results.loc[:, 1]\n",
    "annotation_data[\"ranking_annotation_mean\"] = results.loc[:, 2]"
   ],
   "metadata": {
    "collapsed": false,
    "pycharm": {
     "name": "#%%\n"
    }
   }
  },
  {
   "cell_type": "code",
   "execution_count": 30,
   "outputs": [
    {
     "name": "stdout",
     "output_type": "stream",
     "text": [
      "Relevance Score: \n",
      "count    525.000000\n",
      "mean       1.211667\n",
      "std        0.800905\n",
      "min        0.000000\n",
      "25%        0.750000\n",
      "50%        1.250000\n",
      "75%        1.750000\n",
      "max        3.250000\n",
      "Name: relevance_annotation_mean, dtype: float64\n",
      "\n",
      "Topic Score: \n",
      " count    525.000000\n",
      "mean       0.968333\n",
      "std        0.753477\n",
      "min        0.000000\n",
      "25%        0.500000\n",
      "50%        0.875000\n",
      "75%        1.250000\n",
      "max        3.750000\n",
      "Name: topic_annotation_mean, dtype: float64 \n",
      "\n",
      "Ranking Score: \n",
      " count    525.000000\n",
      "mean       0.190000\n",
      "std        0.514492\n",
      "min        0.000000\n",
      "25%        0.000000\n",
      "50%        0.000000\n",
      "75%        0.000000\n",
      "max        3.000000\n",
      "Name: ranking_annotation_mean, dtype: float64\n",
      "\n"
     ]
    }
   ],
   "source": [
    "print(f\"Relevance Score: \\n{annotation_data.relevance_annotation_mean.describe()}\\n\")\n",
    "print(f\"Topic Score: \\n {annotation_data.topic_annotation_mean.describe()} \\n\")\n",
    "print(f\"Ranking Score: \\n {annotation_data.ranking_annotation_mean.describe()}\\n\")"
   ],
   "metadata": {
    "collapsed": false,
    "pycharm": {
     "name": "#%%\n"
    }
   }
  },
  {
   "cell_type": "markdown",
   "source": [
    "## Annototor self agreement for duplicate suggestions\n",
    "\n",
    "Some models propose the same suggestions for a comment. Therefore, we check here if the annotators are consistent with\n",
    "them self for the assessment of these duplicate statements.\n",
    "\n",
    "For this, we compute for the relevance annotation and thematically annotation how much the annotators differ in their\n",
    "scoring of the same suggestions proposed by different model. Finnaly, we compute the mean over all annotators.\n"
   ],
   "metadata": {
    "collapsed": false,
    "pycharm": {
     "name": "#%% md\n"
    }
   }
  },
  {
   "cell_type": "code",
   "execution_count": 31,
   "outputs": [],
   "source": [
    "def compute_mean_deviation(deviation_values: List) -> float:\n",
    "    \"\"\"\n",
    "    Computes mean deviation for given values\n",
    "    :param deviation_values: Annotation scores for one suggestion that appears multiple times for different models\n",
    "    :return: Mean of annotation scores\n",
    "    \"\"\"\n",
    "    mean_annotation = mean(deviation_values)\n",
    "    return mean(list(map(lambda x: abs(mean_annotation - x), deviation_values)))\n"
   ],
   "metadata": {
    "collapsed": false,
    "pycharm": {
     "name": "#%%\n"
    }
   }
  },
  {
   "cell_type": "code",
   "execution_count": 32,
   "outputs": [],
   "source": [
    "suggestion_set = experiment_data.loc[:, \"suggestion\"].unique()\n",
    "\n",
    "\n",
    "def compute_self_user_agreement(user: str):\n",
    "    \"\"\"\n",
    "    Computes the user self agreement for suggestions that appear for multiple embedding models\n",
    "    :param user: String addition to select data for given user\n",
    "    :return: Mean of deviation of user annotations for same suggestion for different model\n",
    "    \"\"\"\n",
    "    relevance_deviation_means = []\n",
    "    thematic_deviation_means = []\n",
    "\n",
    "    for suggestion in suggestion_set:\n",
    "        indices = experiment_data.index[experiment_data[\"suggestion\"] == suggestion]\n",
    "        if len(indices) > 1:\n",
    "            relevance_deviation = annotation_data[\"relevance_score\" + user].iloc[indices].to_list()\n",
    "            thematic_deviation = annotation_data[\"topic_score\" + user].iloc[indices].to_list()\n",
    "\n",
    "            relevance_deviation_means.append(compute_mean_deviation(relevance_deviation))\n",
    "            thematic_deviation_means.append(compute_mean_deviation(thematic_deviation))\n",
    "\n",
    "    user_relevance_deviation_mean = mean(relevance_deviation_means)\n",
    "    user_thematic_deviation_mean = mean(thematic_deviation_means)\n",
    "    return user_relevance_deviation_mean, user_thematic_deviation_mean\n"
   ],
   "metadata": {
    "collapsed": false,
    "pycharm": {
     "name": "#%%\n"
    }
   }
  },
  {
   "cell_type": "code",
   "execution_count": 33,
   "outputs": [
    {
     "name": "stdout",
     "output_type": "stream",
     "text": [
      "The mean self agreement deviation for relevance for all annotators is 0.695787037037037\n",
      "The mean self agreement deviation for thematic for all annotators is 0.5287698412698413\n"
     ]
    }
   ],
   "source": [
    "all_annotator_relevance_mean = mean([compute_self_user_agreement(\"_user_1\")[0], compute_self_user_agreement(\"_user_2\")[0],\n",
    "                           compute_self_user_agreement(\"_user_3\")[0], compute_self_user_agreement(\"_user_4\")[0]])\n",
    "\n",
    "all_annotator_thematic_mean = mean([compute_self_user_agreement(\"_user_1\")[1], compute_self_user_agreement(\"_user_2\")[1],\n",
    "                           compute_self_user_agreement(\"_user_3\")[1], compute_self_user_agreement(\"_user_4\")[1]])\n",
    "\n",
    "\n",
    "print(f\"The mean self agreement deviation for relevance for all annotators is {all_annotator_relevance_mean}\")\n",
    "print(f\"The mean self agreement deviation for thematic for all annotators is {all_annotator_thematic_mean}\")\n",
    "\n",
    "\n",
    "\n"
   ],
   "metadata": {
    "collapsed": false,
    "pycharm": {
     "name": "#%%\n"
    }
   }
  }
 ],
 "metadata": {
  "kernelspec": {
   "display_name": "Python 3 (ipykernel)",
   "language": "python",
   "name": "python3"
  },
  "language_info": {
   "codemirror_mode": {
    "name": "ipython",
    "version": 3
   },
   "file_extension": ".py",
   "mimetype": "text/x-python",
   "name": "python",
   "nbconvert_exporter": "python",
   "pygments_lexer": "ipython3",
   "version": "3.9.5"
  }
 },
 "nbformat": 4,
 "nbformat_minor": 1
}